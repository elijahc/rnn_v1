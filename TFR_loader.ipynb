{
 "cells": [
  {
   "cell_type": "code",
   "execution_count": 21,
   "metadata": {
    "collapsed": false,
    "deletable": true,
    "editable": true,
    "scrolled": true
   },
   "outputs": [
    {
     "ename": "TypeError",
     "evalue": "list indices must be integers or slices, not str",
     "output_type": "error",
     "traceback": [
      "\u001b[0;31m---------------------------------------------------------------------------\u001b[0m",
      "\u001b[0;31mTypeError\u001b[0m                                 Traceback (most recent call last)",
      "\u001b[0;32m<ipython-input-21-5c005a41d7d5>\u001b[0m in \u001b[0;36m<module>\u001b[0;34m()\u001b[0m\n\u001b[1;32m     27\u001b[0m \u001b[0my_vals\u001b[0m \u001b[0;34m=\u001b[0m \u001b[0;34m[\u001b[0m\u001b[0;34m]\u001b[0m\u001b[0;34m\u001b[0m\u001b[0m\n\u001b[1;32m     28\u001b[0m \u001b[0;32mfor\u001b[0m \u001b[0mt\u001b[0m \u001b[0;32min\u001b[0m \u001b[0mtags\u001b[0m\u001b[0;34m:\u001b[0m\u001b[0;34m\u001b[0m\u001b[0m\n\u001b[0;32m---> 29\u001b[0;31m     \u001b[0my_vals\u001b[0m\u001b[0;34m[\u001b[0m\u001b[0mt\u001b[0m\u001b[0;34m]\u001b[0m \u001b[0;34m=\u001b[0m \u001b[0;34m[\u001b[0m\u001b[0;34m]\u001b[0m\u001b[0;34m\u001b[0m\u001b[0m\n\u001b[0m\u001b[1;32m     30\u001b[0m \u001b[0;34m\u001b[0m\u001b[0m\n\u001b[1;32m     31\u001b[0m \u001b[0;32mfor\u001b[0m \u001b[0mt\u001b[0m\u001b[0;34m,\u001b[0m\u001b[0md\u001b[0m \u001b[0;32min\u001b[0m \u001b[0mzip\u001b[0m\u001b[0;34m(\u001b[0m\u001b[0mtime_slugs\u001b[0m\u001b[0;34m,\u001b[0m\u001b[0mfp_list\u001b[0m\u001b[0;34m)\u001b[0m\u001b[0;34m:\u001b[0m\u001b[0;34m\u001b[0m\u001b[0m\n",
      "\u001b[0;31mTypeError\u001b[0m: list indices must be integers or slices, not str"
     ]
    }
   ],
   "source": [
    "import tensorflow as tf\n",
    "import numpy as np\n",
    "import plotly.plotly as py\n",
    "import plotly.graph_objs as go\n",
    "import os\n",
    "import pprint\n",
    "\n",
    "tag = 'stim_feed_impact'\n",
    "data_sets = ['data02','data10']\n",
    "\n",
    "root = 'log/stim_feed_impact/data_02/t_steps30/'\n",
    "time_slugs = next(os.walk(root))[1]\n",
    "fp_list = []\n",
    "for s in time_slugs:\n",
    "    files = next(os.walk(root+s+'/'))[2]\n",
    "    fp_list.extend([\n",
    "        dict(\n",
    "            bdump=root+s+'/'+files[0],\n",
    "            epath=root+s+'/'+files[1],\n",
    "            config=root+s+'/'+files[2]\n",
    "        )\n",
    "    ])\n",
    "\n",
    "fp = 'log/stim_feed_impact/data_02/t_steps30/20170215.08.18.21/events.out.tfevents.1487171901.Crimson-Mountain'\n",
    "\n",
    "tags = ['Train/Model/FEV','Test/Model/FEV','Train/Model/total_loss','Train/Model/var']\n",
    "y_vals = []\n",
    "\n",
    "for t,d in zip(time_slugs,fp_list):    \n",
    "    for e in tf.train.summary_iterator(d['epath']):\n",
    "        for v in e.summary.value:\n",
    "            item = dict(\n",
    "                            t=t,   \n",
    "                        )\n",
    "            for ta in tags:\n",
    "                if v.tag == ta:\n",
    "                    \n",
    "                    \n",
    "print(y_vals)\n",
    "[len(y_vals[t]) for t in tags]"
   ]
  },
  {
   "cell_type": "code",
   "execution_count": 7,
   "metadata": {
    "collapsed": false,
    "deletable": true,
    "editable": true
   },
   "outputs": [
    {
     "data": {
      "text/html": [
       "<iframe id=\"igraph\" scrolling=\"no\" style=\"border:none;\" seamless=\"seamless\" src=\"https://plot.ly/~chriseli/13.embed\" height=\"525px\" width=\"100%\"></iframe>"
      ],
      "text/plain": [
       "<plotly.tools.PlotlyDisplay object>"
      ]
     },
     "execution_count": 7,
     "metadata": {},
     "output_type": "execute_result"
    }
   ],
   "source": [
    "traces = []\n",
    "\n",
    "trace = go.Scatter(\n",
    "    y=y_vals['Train/Model/FEV'],\n",
    "    mode='marker'\n",
    ")\n",
    "data = [trace]\n",
    "py.iplot(data,filename='test-FEV')"
   ]
  }
 ],
 "metadata": {
  "kernelspec": {
   "display_name": "Python 3",
   "language": "python",
   "name": "python3"
  },
  "language_info": {
   "codemirror_mode": {
    "name": "ipython",
    "version": 3
   },
   "file_extension": ".py",
   "mimetype": "text/x-python",
   "name": "python",
   "nbconvert_exporter": "python",
   "pygments_lexer": "ipython3",
   "version": "3.5.3"
  }
 },
 "nbformat": 4,
 "nbformat_minor": 2
}
